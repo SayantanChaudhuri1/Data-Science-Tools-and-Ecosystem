{
 "cells": [
  {
   "cell_type": "markdown",
   "metadata": {},
   "source": [
    "<center>\n",
    "    <img src=\"https://cf-courses-data.s3.us.cloud-object-storage.appdomain.cloud/IBMDeveloperSkillsNetwork-DS0105EN-SkillsNetwork/labs/Module2/images/SN_web_lightmode.png\" width=\"300\" alt=\"cognitiveclass.ai logo\">\n",
    "</center>\n"
   ]
  },
  {
   "cell_type": "markdown",
   "metadata": {},
   "source": [
    "## Data Science Tools and Ecosystem\n"
   ]
  },
  {
   "cell_type": "markdown",
   "metadata": {},
   "source": [
    "# My Data Science Introduction Notebook\n"
   ]
  },
  {
   "cell_type": "markdown",
   "metadata": {},
   "source": [
    "## Introduction  \n",
    "This notebook introduces data science languages, libraries, tools, and includes some simple arithmetic Python code.\n"
   ]
  },
  {
   "cell_type": "markdown",
   "metadata": {},
   "source": [
    "### Data Science Languages  \n",
    "- Python  \n",
    "- R  \n",
    "- SQL  \n",
    "- Julia  \n"
   ]
  },
  {
   "cell_type": "markdown",
   "metadata": {},
   "source": [
    "### Data Science Libraries  \n",
    "- NumPy  \n",
    "- Pandas  \n",
    "- Matplotlib  \n",
    "- Scikit-learn  \n"
   ]
  },
  {
   "cell_type": "markdown",
   "metadata": {},
   "source": [
    "### Data Science Tools\n",
    "\n",
    "| Tool           | Description                     |  \n",
    "| -------------- | -------------------------------|  \n",
    "| Jupyter        | Interactive notebooks           |  \n",
    "| GitHub         | Version control and collaboration |  \n",
    "| Watson Studio  | IBM's data science platform     |  \n"
   ]
  },
  {
   "cell_type": "markdown",
   "metadata": {},
   "source": [
    "### Arithmetic Expression Examples  \n",
    "Below are examples of simple arithmetic operations in Python.\n",
    "\n",
    "- 5 + 6\n",
    "- 2 - 1\n",
    "- 3 * 3\n",
    "- 4 ** 2\n",
    "- 5 / 2 \n",
    "- 4 // 2"
   ]
  },
  {
   "cell_type": "markdown",
   "metadata": {},
   "source": [
    "### Objectives  \n",
    "- Understand basic Markdown formatting  \n",
    "- Learn how to use JupyterLite notebook  \n",
    "- Practice simple Python arithmetic  \n"
   ]
  },
  {
   "cell_type": "markdown",
   "metadata": {},
   "source": [
    "### Author  \n",
    "Sayantan Chaudhuri\n"
   ]
  },
  {
   "cell_type": "code",
   "execution_count": 2,
   "metadata": {},
   "outputs": [
    {
     "name": "stdout",
     "output_type": "stream",
     "text": [
      "Result of (5 * 3) + 10 is: 25\n"
     ]
    }
   ],
   "source": [
    "# Multiply and add example\n",
    "result = (5 * 3) + 10\n",
    "print(\"Result of (5 * 3) + 10 is:\", result)\n"
   ]
  },
  {
   "cell_type": "code",
   "execution_count": 3,
   "metadata": {},
   "outputs": [
    {
     "name": "stdout",
     "output_type": "stream",
     "text": [
      "120 minutes is equal to 2.0 hours.\n"
     ]
    }
   ],
   "source": [
    "# Convert minutes to hours\n",
    "minutes = 120\n",
    "hours = minutes / 60\n",
    "print(f\"{minutes} minutes is equal to {hours} hours.\")\n"
   ]
  }
 ],
 "metadata": {
  "kernelspec": {
   "display_name": "Python 3 (ipykernel)",
   "language": "python",
   "name": "python3"
  },
  "language_info": {
   "codemirror_mode": {
    "name": "ipython",
    "version": 3
   },
   "file_extension": ".py",
   "mimetype": "text/x-python",
   "name": "python",
   "nbconvert_exporter": "python",
   "pygments_lexer": "ipython3",
   "version": "3.12.8"
  }
 },
 "nbformat": 4,
 "nbformat_minor": 4
}
